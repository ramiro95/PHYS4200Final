{
 "cells": [
  {
   "cell_type": "code",
   "execution_count": 393,
   "metadata": {},
   "outputs": [],
   "source": [
    "# Import all necessary packages\n",
    "\n",
    "import matplotlib.pyplot as plt\n",
    "import numpy as np\n",
    "import sympy\n",
    "import seaborn as sb\n",
    "import scipy\n",
    "from scipy.integrate import odeint\n",
    "import tabula\n",
    "import PyPDF2\n",
    "import pandas as pd\n",
    "from scipy.interpolate import *\n",
    "from scipy import stats"
   ]
  },
  {
   "cell_type": "markdown",
   "metadata": {},
   "source": [
    "### Purpose\n",
    "\n",
    "This notebook is broken into two sections. The first section is composed of data analysis; the data was acquired from a case study of wildebeest in the Serengeti (http://www.uvm.edu/~dstratto/bcor102/readings/2_wildebeest.pdf) that contains information on the growth of wildebeest over some years. The general paramaters from the case study will be used in the second section of the notebook that follows a Lotka-Volterra model of population dynamics (competition model: predator-prey). More detailed information will be provided in each section."
   ]
  },
  {
   "cell_type": "markdown",
   "metadata": {},
   "source": [
    "# Section 1 (Data analysis)"
   ]
  },
  {
   "cell_type": "markdown",
   "metadata": {},
   "source": [
    "As mentioned above, the data was retrieved from the link above.\n",
    "\n",
    "### In order to retrieve the data, we use a useful package called tabula\n",
    "\n",
    "* Tabula allows python to read any table given in pdf format\n",
    "* Tabula works along with pandas in order to save the infomation under pandas data frame\n",
    "\n",
    "tabula requires to be installed. This could be done on a separate terminal. Luckily, Jupyter has its own terminal where we can install other packets.\n",
    "\n",
    "Use the command: pip install Tabula-Py"
   ]
  },
  {
   "cell_type": "code",
   "execution_count": 394,
   "metadata": {
    "scrolled": true
   },
   "outputs": [
    {
     "data": {
      "text/html": [
       "<div>\n",
       "<style scoped>\n",
       "    .dataframe tbody tr th:only-of-type {\n",
       "        vertical-align: middle;\n",
       "    }\n",
       "\n",
       "    .dataframe tbody tr th {\n",
       "        vertical-align: top;\n",
       "    }\n",
       "\n",
       "    .dataframe thead th {\n",
       "        text-align: right;\n",
       "    }\n",
       "</style>\n",
       "<table border=\"1\" class=\"dataframe\">\n",
       "  <thead>\n",
       "    <tr style=\"text-align: right;\">\n",
       "      <th></th>\n",
       "      <th>Year</th>\n",
       "      <th>Number of\r",
       "wildebeest\r",
       "(x 1000)</th>\n",
       "      <th>Dry\r",
       "Season\r",
       "Rainfall\r",
       "(mm)</th>\n",
       "    </tr>\n",
       "  </thead>\n",
       "  <tbody>\n",
       "    <tr>\n",
       "      <th>0</th>\n",
       "      <td>1959</td>\n",
       "      <td>212</td>\n",
       "      <td>NaN</td>\n",
       "    </tr>\n",
       "    <tr>\n",
       "      <th>1</th>\n",
       "      <td>1960</td>\n",
       "      <td>232</td>\n",
       "      <td>100.0</td>\n",
       "    </tr>\n",
       "    <tr>\n",
       "      <th>2</th>\n",
       "      <td>1961</td>\n",
       "      <td>263</td>\n",
       "      <td>40.0</td>\n",
       "    </tr>\n",
       "    <tr>\n",
       "      <th>3</th>\n",
       "      <td>1962</td>\n",
       "      <td>307</td>\n",
       "      <td>102.0</td>\n",
       "    </tr>\n",
       "    <tr>\n",
       "      <th>4</th>\n",
       "      <td>1963</td>\n",
       "      <td>356</td>\n",
       "      <td>104.0</td>\n",
       "    </tr>\n",
       "    <tr>\n",
       "      <th>5</th>\n",
       "      <td>1964</td>\n",
       "      <td>403</td>\n",
       "      <td>168.0</td>\n",
       "    </tr>\n",
       "    <tr>\n",
       "      <th>6</th>\n",
       "      <td>1965</td>\n",
       "      <td>439</td>\n",
       "      <td>168.0</td>\n",
       "    </tr>\n",
       "    <tr>\n",
       "      <th>7</th>\n",
       "      <td>1966</td>\n",
       "      <td>461</td>\n",
       "      <td>166.0</td>\n",
       "    </tr>\n",
       "    <tr>\n",
       "      <th>8</th>\n",
       "      <td>1967</td>\n",
       "      <td>483</td>\n",
       "      <td>78.0</td>\n",
       "    </tr>\n",
       "    <tr>\n",
       "      <th>9</th>\n",
       "      <td>1968</td>\n",
       "      <td>520</td>\n",
       "      <td>91.0</td>\n",
       "    </tr>\n",
       "    <tr>\n",
       "      <th>10</th>\n",
       "      <td>1969</td>\n",
       "      <td>570</td>\n",
       "      <td>78.0</td>\n",
       "    </tr>\n",
       "    <tr>\n",
       "      <th>11</th>\n",
       "      <td>1970</td>\n",
       "      <td>630</td>\n",
       "      <td>133.0</td>\n",
       "    </tr>\n",
       "    <tr>\n",
       "      <th>12</th>\n",
       "      <td>1971</td>\n",
       "      <td>693</td>\n",
       "      <td>192.0</td>\n",
       "    </tr>\n",
       "    <tr>\n",
       "      <th>13</th>\n",
       "      <td>1972</td>\n",
       "      <td>773</td>\n",
       "      <td>235.0</td>\n",
       "    </tr>\n",
       "    <tr>\n",
       "      <th>14</th>\n",
       "      <td>1973</td>\n",
       "      <td>897</td>\n",
       "      <td>159.0</td>\n",
       "    </tr>\n",
       "    <tr>\n",
       "      <th>15</th>\n",
       "      <td>1974</td>\n",
       "      <td>1058</td>\n",
       "      <td>211.0</td>\n",
       "    </tr>\n",
       "    <tr>\n",
       "      <th>16</th>\n",
       "      <td>1975</td>\n",
       "      <td>1222</td>\n",
       "      <td>258.0</td>\n",
       "    </tr>\n",
       "    <tr>\n",
       "      <th>17</th>\n",
       "      <td>1976</td>\n",
       "      <td>1336</td>\n",
       "      <td>205.0</td>\n",
       "    </tr>\n",
       "    <tr>\n",
       "      <th>18</th>\n",
       "      <td>1977</td>\n",
       "      <td>1440</td>\n",
       "      <td>303.0</td>\n",
       "    </tr>\n",
       "  </tbody>\n",
       "</table>\n",
       "</div>"
      ],
      "text/plain": [
       "    Year  Number of\\rwildebeest\\r(x 1000)  Dry\\rSeason\\rRainfall\\r(mm)\n",
       "0   1959                              212                          NaN\n",
       "1   1960                              232                        100.0\n",
       "2   1961                              263                         40.0\n",
       "3   1962                              307                        102.0\n",
       "4   1963                              356                        104.0\n",
       "5   1964                              403                        168.0\n",
       "6   1965                              439                        168.0\n",
       "7   1966                              461                        166.0\n",
       "8   1967                              483                         78.0\n",
       "9   1968                              520                         91.0\n",
       "10  1969                              570                         78.0\n",
       "11  1970                              630                        133.0\n",
       "12  1971                              693                        192.0\n",
       "13  1972                              773                        235.0\n",
       "14  1973                              897                        159.0\n",
       "15  1974                             1058                        211.0\n",
       "16  1975                             1222                        258.0\n",
       "17  1976                             1336                        205.0\n",
       "18  1977                             1440                        303.0"
      ]
     },
     "execution_count": 394,
     "metadata": {},
     "output_type": "execute_result"
    }
   ],
   "source": [
    "### 'encoding='utf-8', spreadsheet=True' This part of the code is needed so that pandas can displaye the data nicely\n",
    "\n",
    "### I will include a version of the code without 'encoding='utf-8', spreadsheet=True,' to show how data is displayed\n",
    "     \n",
    "pd = tabula.read_pdf(\"2_wildebeest.pdf\",encoding='utf-8', spreadsheet=True, pages = 12) \n",
    "\n",
    "pd[:19]   ### [:19] -- this sytanx is saying I only want the first 19 headers of the table. \n"
   ]
  },
  {
   "cell_type": "markdown",
   "metadata": {},
   "source": [
    "### As mentioned in the comments of the previous cell, excluding the 'encoding='utf-8', spreadsheet=True,' displays the data in a way that makes the '.plot()' function of pandas more difficult "
   ]
  },
  {
   "cell_type": "code",
   "execution_count": 395,
   "metadata": {},
   "outputs": [
    {
     "data": {
      "text/html": [
       "<div>\n",
       "<style scoped>\n",
       "    .dataframe tbody tr th:only-of-type {\n",
       "        vertical-align: middle;\n",
       "    }\n",
       "\n",
       "    .dataframe tbody tr th {\n",
       "        vertical-align: top;\n",
       "    }\n",
       "\n",
       "    .dataframe thead th {\n",
       "        text-align: right;\n",
       "    }\n",
       "</style>\n",
       "<table border=\"1\" class=\"dataframe\">\n",
       "  <thead>\n",
       "    <tr style=\"text-align: right;\">\n",
       "      <th></th>\n",
       "      <th>Unnamed: 0</th>\n",
       "      <th>Unnamed: 1</th>\n",
       "      <th>Dry</th>\n",
       "    </tr>\n",
       "  </thead>\n",
       "  <tbody>\n",
       "    <tr>\n",
       "      <th>0</th>\n",
       "      <td>NaN</td>\n",
       "      <td>Number of</td>\n",
       "      <td>Season</td>\n",
       "    </tr>\n",
       "    <tr>\n",
       "      <th>1</th>\n",
       "      <td>NaN</td>\n",
       "      <td>wildebeest</td>\n",
       "      <td>Rainfall</td>\n",
       "    </tr>\n",
       "    <tr>\n",
       "      <th>2</th>\n",
       "      <td>Year</td>\n",
       "      <td>(x 1000)</td>\n",
       "      <td>(mm)</td>\n",
       "    </tr>\n",
       "    <tr>\n",
       "      <th>3</th>\n",
       "      <td>1959</td>\n",
       "      <td>212</td>\n",
       "      <td>NaN</td>\n",
       "    </tr>\n",
       "    <tr>\n",
       "      <th>4</th>\n",
       "      <td>1960</td>\n",
       "      <td>232</td>\n",
       "      <td>100</td>\n",
       "    </tr>\n",
       "    <tr>\n",
       "      <th>5</th>\n",
       "      <td>1961</td>\n",
       "      <td>263</td>\n",
       "      <td>40</td>\n",
       "    </tr>\n",
       "    <tr>\n",
       "      <th>6</th>\n",
       "      <td>1962</td>\n",
       "      <td>307</td>\n",
       "      <td>102</td>\n",
       "    </tr>\n",
       "    <tr>\n",
       "      <th>7</th>\n",
       "      <td>1963</td>\n",
       "      <td>356</td>\n",
       "      <td>104</td>\n",
       "    </tr>\n",
       "    <tr>\n",
       "      <th>8</th>\n",
       "      <td>1964</td>\n",
       "      <td>403</td>\n",
       "      <td>168</td>\n",
       "    </tr>\n",
       "    <tr>\n",
       "      <th>9</th>\n",
       "      <td>1965</td>\n",
       "      <td>439</td>\n",
       "      <td>168</td>\n",
       "    </tr>\n",
       "    <tr>\n",
       "      <th>10</th>\n",
       "      <td>1966</td>\n",
       "      <td>461</td>\n",
       "      <td>166</td>\n",
       "    </tr>\n",
       "    <tr>\n",
       "      <th>11</th>\n",
       "      <td>1967</td>\n",
       "      <td>483</td>\n",
       "      <td>78</td>\n",
       "    </tr>\n",
       "    <tr>\n",
       "      <th>12</th>\n",
       "      <td>1968</td>\n",
       "      <td>520</td>\n",
       "      <td>91</td>\n",
       "    </tr>\n",
       "    <tr>\n",
       "      <th>13</th>\n",
       "      <td>1969</td>\n",
       "      <td>570</td>\n",
       "      <td>78</td>\n",
       "    </tr>\n",
       "    <tr>\n",
       "      <th>14</th>\n",
       "      <td>1970</td>\n",
       "      <td>630</td>\n",
       "      <td>133</td>\n",
       "    </tr>\n",
       "    <tr>\n",
       "      <th>15</th>\n",
       "      <td>1971</td>\n",
       "      <td>693</td>\n",
       "      <td>192</td>\n",
       "    </tr>\n",
       "    <tr>\n",
       "      <th>16</th>\n",
       "      <td>1972</td>\n",
       "      <td>773</td>\n",
       "      <td>235</td>\n",
       "    </tr>\n",
       "    <tr>\n",
       "      <th>17</th>\n",
       "      <td>1973</td>\n",
       "      <td>897</td>\n",
       "      <td>159</td>\n",
       "    </tr>\n",
       "    <tr>\n",
       "      <th>18</th>\n",
       "      <td>1974</td>\n",
       "      <td>1058</td>\n",
       "      <td>211</td>\n",
       "    </tr>\n",
       "    <tr>\n",
       "      <th>19</th>\n",
       "      <td>1975</td>\n",
       "      <td>1222</td>\n",
       "      <td>258</td>\n",
       "    </tr>\n",
       "    <tr>\n",
       "      <th>20</th>\n",
       "      <td>1976</td>\n",
       "      <td>1336</td>\n",
       "      <td>205</td>\n",
       "    </tr>\n",
       "    <tr>\n",
       "      <th>21</th>\n",
       "      <td>1977</td>\n",
       "      <td>1440</td>\n",
       "      <td>303</td>\n",
       "    </tr>\n",
       "    <tr>\n",
       "      <th>22</th>\n",
       "      <td>1978</td>\n",
       "      <td>1249</td>\n",
       "      <td>188</td>\n",
       "    </tr>\n",
       "    <tr>\n",
       "      <th>23</th>\n",
       "      <td>1979</td>\n",
       "      <td>1293</td>\n",
       "      <td>85</td>\n",
       "    </tr>\n",
       "    <tr>\n",
       "      <th>24</th>\n",
       "      <td>1980</td>\n",
       "      <td>1338</td>\n",
       "      <td>100</td>\n",
       "    </tr>\n",
       "    <tr>\n",
       "      <th>25</th>\n",
       "      <td>1981</td>\n",
       "      <td>1273</td>\n",
       "      <td>162</td>\n",
       "    </tr>\n",
       "    <tr>\n",
       "      <th>26</th>\n",
       "      <td>1982</td>\n",
       "      <td>1208</td>\n",
       "      <td>97</td>\n",
       "    </tr>\n",
       "    <tr>\n",
       "      <th>27</th>\n",
       "      <td>1983</td>\n",
       "      <td>1315</td>\n",
       "      <td>230</td>\n",
       "    </tr>\n",
       "    <tr>\n",
       "      <th>28</th>\n",
       "      <td>1984</td>\n",
       "      <td>1338</td>\n",
       "      <td>207</td>\n",
       "    </tr>\n",
       "    <tr>\n",
       "      <th>29</th>\n",
       "      <td>1985</td>\n",
       "      <td>1215</td>\n",
       "      <td>84</td>\n",
       "    </tr>\n",
       "    <tr>\n",
       "      <th>30</th>\n",
       "      <td>1986</td>\n",
       "      <td>1146</td>\n",
       "      <td>45</td>\n",
       "    </tr>\n",
       "    <tr>\n",
       "      <th>31</th>\n",
       "      <td>1987</td>\n",
       "      <td>1161</td>\n",
       "      <td>114</td>\n",
       "    </tr>\n",
       "    <tr>\n",
       "      <th>32</th>\n",
       "      <td>1988</td>\n",
       "      <td>1177</td>\n",
       "      <td>191</td>\n",
       "    </tr>\n",
       "    <tr>\n",
       "      <th>33</th>\n",
       "      <td>1989</td>\n",
       "      <td>1192</td>\n",
       "      <td>201</td>\n",
       "    </tr>\n",
       "    <tr>\n",
       "      <th>34</th>\n",
       "      <td>1990</td>\n",
       "      <td>1207</td>\n",
       "      <td>126</td>\n",
       "    </tr>\n",
       "    <tr>\n",
       "      <th>35</th>\n",
       "      <td>1991</td>\n",
       "      <td>1222</td>\n",
       "      <td>255</td>\n",
       "    </tr>\n",
       "    <tr>\n",
       "      <th>36</th>\n",
       "      <td>1992</td>\n",
       "      <td>1216</td>\n",
       "      <td>152</td>\n",
       "    </tr>\n",
       "    <tr>\n",
       "      <th>37</th>\n",
       "      <td>1993</td>\n",
       "      <td>1209</td>\n",
       "      <td>19</td>\n",
       "    </tr>\n",
       "    <tr>\n",
       "      <th>38</th>\n",
       "      <td>1994</td>\n",
       "      <td>917</td>\n",
       "      <td>227</td>\n",
       "    </tr>\n",
       "  </tbody>\n",
       "</table>\n",
       "</div>"
      ],
      "text/plain": [
       "   Unnamed: 0  Unnamed: 1       Dry\n",
       "0         NaN   Number of    Season\n",
       "1         NaN  wildebeest  Rainfall\n",
       "2        Year    (x 1000)      (mm)\n",
       "3        1959         212       NaN\n",
       "4        1960         232       100\n",
       "5        1961         263        40\n",
       "6        1962         307       102\n",
       "7        1963         356       104\n",
       "8        1964         403       168\n",
       "9        1965         439       168\n",
       "10       1966         461       166\n",
       "11       1967         483        78\n",
       "12       1968         520        91\n",
       "13       1969         570        78\n",
       "14       1970         630       133\n",
       "15       1971         693       192\n",
       "16       1972         773       235\n",
       "17       1973         897       159\n",
       "18       1974        1058       211\n",
       "19       1975        1222       258\n",
       "20       1976        1336       205\n",
       "21       1977        1440       303\n",
       "22       1978        1249       188\n",
       "23       1979        1293        85\n",
       "24       1980        1338       100\n",
       "25       1981        1273       162\n",
       "26       1982        1208        97\n",
       "27       1983        1315       230\n",
       "28       1984        1338       207\n",
       "29       1985        1215        84\n",
       "30       1986        1146        45\n",
       "31       1987        1161       114\n",
       "32       1988        1177       191\n",
       "33       1989        1192       201\n",
       "34       1990        1207       126\n",
       "35       1991        1222       255\n",
       "36       1992        1216       152\n",
       "37       1993        1209        19\n",
       "38       1994         917       227"
      ]
     },
     "execution_count": 395,
     "metadata": {},
     "output_type": "execute_result"
    }
   ],
   "source": [
    "pd_v2 = tabula.read_pdf('2_wildebeest.pdf', pages=12)\n",
    "pd_v2"
   ]
  },
  {
   "cell_type": "markdown",
   "metadata": {},
   "source": [
    "### Here we plot the first 19 headers of the table from the case study"
   ]
  },
  {
   "cell_type": "code",
   "execution_count": 396,
   "metadata": {},
   "outputs": [
    {
     "data": {
      "text/plain": [
       "<matplotlib.axes._subplots.AxesSubplot at 0x150ae78c2b0>"
      ]
     },
     "execution_count": 396,
     "metadata": {},
     "output_type": "execute_result"
    },
    {
     "data": {
      "image/png": "[encoded data removed]",
      "text/plain": [
       "<Figure size 432x288 with 1 Axes>"
      ]
     },
     "metadata": {},
     "output_type": "display_data"
    }
   ],
   "source": [
    "pd[:19].plot('Year')"
   ]
  },
  {
   "cell_type": "markdown",
   "metadata": {},
   "source": [
    "### Here we plot and analyze the correlation between rainfall and number of wildebeest\n"
   ]
  },
  {
   "cell_type": "code",
   "execution_count": 397,
   "metadata": {},
   "outputs": [
    {
     "name": "stdout",
     "output_type": "stream",
     "text": [
      "Slope 0.15372154227719872\n",
      "Intercept 51.86570025914486\n",
      "r_value 0.8157960446802051\n",
      "p_value 3.6727582242098064e-05\n",
      "std_err 0.027244331433538285\n",
      "[-9.73415390e-06  1.69655792e-01  4.68425921e+01]\n"
     ]
    },
    {
     "data": {
      "image/png": "[encoded data removed]",
      "text/plain": [
       "<Figure size 432x288 with 1 Axes>"
      ]
     },
     "metadata": {},
     "output_type": "display_data"
    }
   ],
   "source": [
    "x = np.array([232,263,307,356,403,439,461,483,520,570,630,693,773,897,1058,1222,1336,1440])\n",
    "y = np.array([100,40,102,104,168,168,166,78,91,78,133,192,235,159,211,258,205,303])\n",
    "\n",
    "plt.title('Correlation between rainfall and number of wildebeest')\n",
    "plt.plot(x,y)\n",
    "plt.plot(x, line_fit, 'g--', label='linear fit'.format(sympy.latex(P)))\n",
    "plt.legend()\n",
    "plt.xlabel('number of wildebeest (x1000)')\n",
    "plt.ylabel('rainfall (mm)')\n",
    "\n",
    "slope, intercept, r_value, p_value, std_err = stats.linregress(x, y)\n",
    "line_fit = slope*x+intercept\n",
    "print('Slope', slope)\n",
    "print('Intercept', intercept)\n",
    "print('r_value', r_value)\n",
    "print('p_value', p_value)\n",
    "print('std_err', std_err)\n",
    "print(z)"
   ]
  },
  {
   "cell_type": "markdown",
   "metadata": {},
   "source": [
    "From the graph, we can conclude that there is a positive correlation between rain fall and number of wildebeest. As mentioned in the case study, more rainfall leads to an increase in biomass of grass (food for wildebeest) therefore more wildbeest will be produced. The sudden drops can be described as probably predation or other factors which is discussed later. With more prey (wildbeest), predators are more likely to hunt them down, decreasing in the amount of wildebeest and increase in the amount of predator. With less prey to prey on, predators will experience their decrease in population for lack of food. In turn, prey will be allowed to bounce back. "
   ]
  },
  {
   "cell_type": "markdown",
   "metadata": {},
   "source": [
    "# Section 2 (Differential Equations - Population model)"
   ]
  },
  {
   "cell_type": "markdown",
   "metadata": {},
   "source": [
    "### In this section, we will use the Lotka-Volterra equations in order to analyze a competition model (predator-prey) by adding a predator (lion) to the wildebeest.\n",
    "#### The set of equations used will come from the research paper (https://www.jstor.org/stable/pdf/2096748.pdf?casa_token=funM4jY30WgAAAAA:DnXaoXMcRitfuCOd38_n5NZyuvR68rOpYd7zyoitte7AR6ABm0k0a1pi3x7O-S9u2I7hBPFClqMazL_QN_zmoklNK2HBdMi5MLLZGSS9UKLnmLFOSQ), specifically under the competition model section of the research paper"
   ]
  },
  {
   "cell_type": "markdown",
   "metadata": {},
   "source": [
    "#### In order to focus on the main part of the information we want from the research paper, we will use the following code to extract information\n",
    "\n",
    "* Just like tabula, where it allowed us to read table data from a specific page of a .pdf file, we will implement PyPDF2 package to extract TEXT from a .pdf file\n",
    "* This package will also have to be installed through a separate terminal (Jupyter contains a terminal that can be used for these purposes) in order for it to be imported as a package on a notebook.\n",
    "* install using the command: pip install PyPDF2"
   ]
  },
  {
   "cell_type": "code",
   "execution_count": 398,
   "metadata": {},
   "outputs": [
    {
     "name": "stdout",
     "output_type": "stream",
     "text": [
      "31\n"
     ]
    }
   ],
   "source": [
    "text_pdf_file = open('2096748.pdf', 'rb')\n",
    "pdf_file_reader = PyPDF2.PdfFileReader(text_pdf_file)\n",
    "print(pdf_file_reader.numPages)"
   ]
  },
  {
   "cell_type": "code",
   "execution_count": 399,
   "metadata": {},
   "outputs": [
    {
     "name": "stdout",
     "output_type": "stream",
     "text": [
      "This content downloaded from 130.182.24.47 on Thu, 09 May 2019 18:01:01 UTCAll use subject to https://about.jstor.org/terms\n"
     ]
    }
   ],
   "source": [
    "focus_page =  pdf_file_reader.getPage(15)\n",
    "print(focus_page.extractText())"
   ]
  },
  {
   "cell_type": "markdown",
   "metadata": {},
   "source": [
    "* Unfortunately, this pdf contains some user restrictions. To check full, complete paper for yourself, click on link provided at section header.\n",
    "\n",
    "    * I will provide a screenshot of the portion I will focus in the next cell."
   ]
  },
  {
   "attachments": {
    "2019-05-09%20%282%29.png": {
     "image/png": "[encoded data removed]"
    }
   },
   "cell_type": "markdown",
   "metadata": {},
   "source": [
    "![2019-05-09%20%282%29.png](attachment:2019-05-09%20%282%29.png)"
   ]
  },
  {
   "cell_type": "markdown",
   "metadata": {},
   "source": [
    "The above equations represent the interaction between two species (wildebeest and lions). This is known as the competition model. There are many models that exist, each has either more terms or less depending on how realistic the model is, consequently, it becomes either more or less complicated. In this case, the equations shown are a reasonable representation and can be coded fairly simply thanks to some packages.\n",
    "\n",
    "\n",
    "Parameters:\n",
    "    \n",
    "    x = prey (wildebeest population thousands)\n",
    "    r_x = growth rate of widebeest\n",
    "    K_x = environment carrying capacity \n",
    "    alpha & beta = interaction parameters between the two species\n",
    "    y = predator (lion population)\n",
    "    r_y = growth rate of lions\n",
    "    K_Y = environment carrying capacity\n",
    "    \n",
    "The parameters from the equation will be denoted differently in the code below:\n",
    "\n",
    "    x = P_1\n",
    "    y = P_2 \n",
    "    K_x = K_1\n",
    "    K_y = K_2\n",
    "    r_x = r_1\n",
    "    r_y = r_2\n",
    "\n",
    "the purpose for this is for simplicity reasons that will be mentioned later. "
   ]
  },
  {
   "cell_type": "markdown",
   "metadata": {},
   "source": [
    "### Using sympy, we set the variables that will be used"
   ]
  },
  {
   "cell_type": "code",
   "execution_count": 400,
   "metadata": {},
   "outputs": [],
   "source": [
    "r_1, P_1, K_1, alpha = sympy.symbols('r_1, P_1, K_1, alpha')\n",
    "r_2, P_2, K_2, beta = sympy.symbols('r_2, P_2, K_2, beta')"
   ]
  },
  {
   "cell_type": "markdown",
   "metadata": {},
   "source": [
    "###  Now we can code the Lotka-Volterra equations"
   ]
  },
  {
   "cell_type": "code",
   "execution_count": 401,
   "metadata": {},
   "outputs": [
    {
     "name": "stdout",
     "output_type": "stream",
     "text": [
      "This is what we get in Latex, thank you sympy!:\n"
     ]
    },
    {
     "data": {
      "image/png": "[encoded data removed]",
      "text/latex": [
       "$$\\left ( \\frac{P_{1} r_{1} \\left(K_{1} - P_{1} - P_{2} \\alpha\\right)}{K_{1}}, \\quad \\frac{P_{2} r_{2} \\left(K_{2} - P_{1} \\beta - P_{2}\\right)}{K_{2}}\\right )$$"
      ],
      "text/plain": [
       "⎛P₁⋅r₁⋅(K₁ - P₁ - P₂⋅α)  P₂⋅r₂⋅(K₂ - P₁⋅β - P₂)⎞\n",
       "⎜──────────────────────, ──────────────────────⎟\n",
       "⎝          K₁                      K₂          ⎠"
      ]
     },
     "execution_count": 401,
     "metadata": {},
     "output_type": "execute_result"
    }
   ],
   "source": [
    "dP_1dt = r_1*P_1*((K_1 - P_1 - alpha*P_2)/K_1)   ### Prey equation\n",
    "dP_2dt = r_2*P_2*((K_2 - P_2 - beta*P_1)/K_2)    ### Predator equation\n",
    " \n",
    "sympy.init_printing(use_unicode=True)        ### Sympy has a neat option of printing the code in Latex format\n",
    "print('This is what we get in Latex, thank you sympy!:')\n",
    "dP_1dt, dP_2dt"
   ]
  },
  {
   "cell_type": "markdown",
   "metadata": {},
   "source": [
    "### Population dynamics is considered a dynamical system and in system theory we require  a steady state. \n",
    "\n",
    "if the variables (called state variables) which define the behavior of the system or the process are unchanging in time, it is called a steady state. In other words, the derivative with respect to time is zero.\n",
    "\n",
    "\n",
    "### Here we set the steady states for the equations"
   ]
  },
  {
   "cell_type": "code",
   "execution_count": 402,
   "metadata": {},
   "outputs": [
    {
     "data": {
      "image/png": "[encoded data removed]",
      "text/latex": [
       "$$\\left ( \\frac{P_{1} r_{1} \\left(K_{1} - P_{1} - P_{2} \\alpha\\right)}{K_{1}} = 0, \\quad \\frac{P_{2} r_{2} \\left(K_{2} - P_{1} \\beta - P_{2}\\right)}{K_{2}} = 0\\right )$$"
      ],
      "text/plain": [
       "⎛P₁⋅r₁⋅(K₁ - P₁ - P₂⋅α)      P₂⋅r₂⋅(K₂ - P₁⋅β - P₂)    ⎞\n",
       "⎜────────────────────── = 0, ────────────────────── = 0⎟\n",
       "⎝          K₁                          K₂              ⎠"
      ]
     },
     "execution_count": 402,
     "metadata": {},
     "output_type": "execute_result"
    }
   ],
   "source": [
    "steadystate_P_1 = sympy.Eq(dP_1dt, 0)   ### sympy.Eq allows us to set equations in an easy manner that can be solved later\n",
    "steadystate_P_2 = sympy.Eq(dP_2dt, 0)\n",
    "steadystate_P_1, steadystate_P_2"
   ]
  },
  {
   "cell_type": "markdown",
   "metadata": {},
   "source": [
    "### We can now solve for the steady states"
   ]
  },
  {
   "cell_type": "code",
   "execution_count": 403,
   "metadata": {},
   "outputs": [
    {
     "data": {
      "image/png": "[encoded data removed]",
      "text/latex": [
       "$$\\left ( \\left [ 0, \\quad K_{1} - P_{2} \\alpha\\right ], \\quad \\left [ 0, \\quad K_{2} - P_{1} \\beta\\right ]\\right )$$"
      ],
      "text/plain": [
       "([0, K₁ - P₂⋅α], [0, K₂ - P₁⋅β])"
      ]
     },
     "execution_count": 403,
     "metadata": {},
     "output_type": "execute_result"
    }
   ],
   "source": [
    "sol1 = sympy.solve(steadystate_P_1, P_1) ### sympy.solve allows us to solve the equations\n",
    "sol2 = sympy.solve(steadystate_P_2, P_2)\n",
    "sol1, sol2"
   ]
  },
  {
   "cell_type": "markdown",
   "metadata": {},
   "source": [
    " The previous output suggests that there are two types of solutions: a solution where both P_1 and P_2 are zero and a solution where both wildebeest and lions mantain 𝐾1−𝑃2𝛼 , 𝐾2−𝑃1𝛽 respectively (nonzero populations).\n",
    "\n"
   ]
  },
  {
   "cell_type": "markdown",
   "metadata": {},
   "source": [
    "### We can solve for the exact solution now"
   ]
  },
  {
   "cell_type": "code",
   "execution_count": 404,
   "metadata": {},
   "outputs": [
    {
     "data": {
      "image/png": "[encoded data removed]",
      "text/latex": [
       "$$\\left \\{ P_{1} : \\frac{- K_{1} + K_{2} \\alpha}{\\alpha \\beta - 1}, \\quad P_{2} : \\frac{K_{1} \\beta - K_{2}}{\\alpha \\beta - 1}\\right \\}$$"
      ],
      "text/plain": [
       "⎧    -K₁ + K₂⋅α      K₁⋅β - K₂⎫\n",
       "⎨P₁: ──────────, P₂: ─────────⎬\n",
       "⎩     α⋅β - 1         α⋅β - 1 ⎭"
      ]
     },
     "execution_count": 404,
     "metadata": {},
     "output_type": "execute_result"
    }
   ],
   "source": [
    "steadystate_dict = sympy.solve((sympy.Eq(P_1, sol1[1]), sympy.Eq(P_2,sol2[1])), ### we use sympy.solve again to solve\n",
    "                               (P_1, P_2))                                      ### exact solutions at the same time\n",
    "steadystate_dict"
   ]
  },
  {
   "cell_type": "markdown",
   "metadata": {},
   "source": [
    "### Here we create a function for the right hand side of the lotka-volterra equations\n",
    "\n",
    "* For more information on lambdify and unpacking, check: \n",
    "    * https://docs.sympy.org/latest/modules/utilities/lambdify.html\n",
    "    * https://www.geeksforgeeks.org/packing-and-unpacking-arguments-in-python/"
   ]
  },
  {
   "cell_type": "code",
   "execution_count": 405,
   "metadata": {},
   "outputs": [],
   "source": [
    "### we can utilize a function within sympy called 'lambdify' to take in a symbolic expression and return a function that \n",
    "### can be evaluated using other values\n",
    "### this prevents us from writing it over and over again\n",
    "\n",
    "dP_1dt_num = sympy.utilities.lambdify([P_1,P_2,r_1,K_1,alpha],dP_1dt)\n",
    "dP_2dt_num = sympy.utilities.lambdify([P_2,P_1,r_2,K_2,beta],dP_2dt)\n",
    "\n",
    "def competition_model(p1_p2, t, *p): ### create a function for the right hand side of competition model equations\n",
    "    \n",
    "    p1, p2 = p1_p2                   ### unpack variables\n",
    "    r_1, k_1, a, r_2, k_2, b = p     ### unpack parameters   ### for tuples, the syntax for unpacking is *\n",
    "                                                             ### for dictionaries, syntax for unpacking is **\n",
    "    p1_derivative = dP_1dt_num(p1,p2,r_1,k_1, a)\n",
    "    p2_derivative = dP_2dt_num(p2,p1,r_2,k_2, b)     ### we set the derivatives for the lambdified functions\n",
    "    \n",
    "    return np.array([p1_derivative, p2_derivative])\n",
    "    \n"
   ]
  },
  {
   "cell_type": "markdown",
   "metadata": {},
   "source": [
    "### Set the paramaters for wildbeest using the values from case study of wildbeest provided at beginning of notebook\n",
    "### The paramaters for lions do not come from a particular source but were set using reasonable values\n",
    "\n",
    "* For more information on args, check here:\n",
    "    http://book.pythontips.com/en/latest/args_and_kwargs.html"
   ]
  },
  {
   "cell_type": "code",
   "execution_count": 406,
   "metadata": {},
   "outputs": [],
   "source": [
    "r_1, r_2 = [0.8, 0.6]\n",
    "k_1, k_2 = [1000, 500]\n",
    "a, b= [1, 0.3]\n",
    "p1_p2_initial = [212, 100]\n",
    "t = np.linspace(0,100,100)\n",
    "\n",
    "p1_p2 = odeint(competition_model, p1_p2_initial, t, args=args) ## including args here fixes the code\n",
    "                                                               ## not including args would give error message"
   ]
  },
  {
   "cell_type": "markdown",
   "metadata": {},
   "source": [
    "### Plot the solution and check if they do indeed converge to the steady states "
   ]
  },
  {
   "cell_type": "code",
   "execution_count": 407,
   "metadata": {},
   "outputs": [
    {
     "data": {
      "text/plain": [
       "Text(0, 0.5, 'Population size')"
      ]
     },
     "execution_count": 407,
     "metadata": {},
     "output_type": "execute_result"
    },
    {
     "data": {
      "image/png": "[encoded data removed]",
      "text/plain": [
       "<Figure size 432x288 with 1 Axes>"
      ]
     },
     "metadata": {},
     "output_type": "display_data"
    }
   ],
   "source": [
    "for i, P in enumerate([P_1,P_2]):\n",
    "    plt.plot(t,p1_p2[:, i], label=format(sympy.latex(P)))   \n",
    "    plt.axhline(y=steadystate_dict[P].subs({K_1:k_1, K_2:k_2, alpha:a, beta:b}),  ### axhline allows for a horizontal line\n",
    "               linestyle='--', color=sb.color_palette('bright')[i],\n",
    "               label='steady state'.format(sympy.latex(P)))\n",
    "\n",
    "### seaborn makes plots nicer, so why not\n",
    "    \n",
    "sb.set() \n",
    "plt.title('Competition Model')\n",
    "plt.legend(loc='upper right')\n",
    "plt.xlabel('time (days)')\n",
    "plt.ylabel('Population size')"
   ]
  },
  {
   "cell_type": "markdown",
   "metadata": {},
   "source": [
    "## References"
   ]
  },
  {
   "cell_type": "markdown",
   "metadata": {},
   "source": [
    "The references that helped me create this notebook are the links provided throughout the notebook.\n",
    "Most of them are links to python's documentation for each package\n",
    "\n"
   ]
  }
 ],
 "metadata": {
  "kernelspec": {
   "display_name": "Python 3",
   "language": "python",
   "name": "python3"
  },
  "language_info": {
   "codemirror_mode": {
    "name": "ipython",
    "version": 3
   },
   "file_extension": ".py",
   "mimetype": "text/x-python",
   "name": "python",
   "nbconvert_exporter": "python",
   "pygments_lexer": "ipython3",
   "version": "3.7.1"
  }
 },
 "nbformat": 4,
 "nbformat_minor": 2
}
